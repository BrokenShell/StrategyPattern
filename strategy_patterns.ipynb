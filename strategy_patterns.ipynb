{
 "cells": [
  {
   "cell_type": "markdown",
   "source": [
    "# Strategy Pattern"
   ],
   "metadata": {
    "collapsed": false
   }
  },
  {
   "cell_type": "markdown",
   "source": [
    "The Strategy Pattern is a design pattern that allows an object to change its behavior at runtime by switching between different algorithms or strategies. This pattern is often used in situations where a class has a single method that needs to be implemented in multiple ways.\n",
    "\n",
    "In a fantasy RPG game, the Strategy Pattern can be used to model the behavior of different characters, such as warriors, mages, and archers. Each character class has a unique set of abilities and attack patterns, but they all share a common interface for performing actions.\n",
    "\n",
    "The Strategy Pattern can be implemented in Python by defining an interface or abstract class that defines the method(s) that the strategies must implement. For example, in our RPG game, we could define an interface called \"Character\" that has a method called \"attack\":"
   ],
   "metadata": {
    "collapsed": false
   }
  },
  {
   "cell_type": "code",
   "execution_count": 1,
   "metadata": {
    "collapsed": true
   },
   "outputs": [],
   "source": [
    "class Character:\n",
    "    def __init__(self, name):\n",
    "        self.name = name\n",
    "\n",
    "    def attack(self):\n",
    "        print(f\"{self.name} performs a basic attack\")\n"
   ]
  },
  {
   "cell_type": "markdown",
   "source": [
    "Next, we can define concrete implementations of the Character interface for each character class. For example, a warrior class might have an \"attack\" method that performs a melee attack, while a mage class might have an \"attack\" method that performs a ranged spell attack."
   ],
   "metadata": {
    "collapsed": false
   }
  },
  {
   "cell_type": "code",
   "execution_count": 2,
   "outputs": [],
   "source": [
    "class Warrior(Character):\n",
    "    def attack(self):\n",
    "        print(f\"{self.name} performs a melee attack\")\n",
    "\n",
    "\n",
    "class Mage(Character):\n",
    "    def attack(self):\n",
    "        print(f\"{self.name} performs a spell attack\")\n"
   ],
   "metadata": {
    "collapsed": false
   }
  },
  {
   "cell_type": "markdown",
   "source": [
    "In our game, we can then create instances of these classes and use them interchangeably, while the game or the player can switch between the classes as desired."
   ],
   "metadata": {
    "collapsed": false
   }
  },
  {
   "cell_type": "code",
   "execution_count": 3,
   "outputs": [
    {
     "name": "stdout",
     "output_type": "stream",
     "text": [
      "Rickroll performs a melee attack\n",
      "Mandaulph performs a spell attack\n"
     ]
    }
   ],
   "source": [
    "warrior = Warrior(\"Rickroll\")\n",
    "mage = Mage(\"Mandaulph\")\n",
    "\n",
    "warrior.attack()\n",
    "mage.attack()\n"
   ],
   "metadata": {
    "collapsed": false
   }
  },
  {
   "cell_type": "markdown",
   "source": [
    "In addition, the Strategy Pattern can be further extended by creating a context class that holds a reference to a strategy object and delegates calls to the strategy's methods. This allows the context to be decoupled from the concrete strategies, making it easier to add new strategies or change the behavior of the context at runtime."
   ],
   "metadata": {
    "collapsed": false
   }
  },
  {
   "cell_type": "code",
   "execution_count": 4,
   "outputs": [],
   "source": [
    "class Combat:\n",
    "    def __init__(self, attacker: Character, defender: Character):\n",
    "        self._attacker = attacker\n",
    "        self._defender = defender\n",
    "\n",
    "    def __call__(self):\n",
    "        self._attacker.attack()\n",
    "        self._defender.attack()\n"
   ],
   "metadata": {
    "collapsed": false
   }
  },
  {
   "cell_type": "code",
   "execution_count": 5,
   "outputs": [
    {
     "name": "stdout",
     "output_type": "stream",
     "text": [
      "Rickroll performs a melee attack\n",
      "Mandaulph performs a spell attack\n"
     ]
    }
   ],
   "source": [
    "game = Combat(warrior, mage)\n",
    "game()"
   ],
   "metadata": {
    "collapsed": false
   }
  },
  {
   "cell_type": "markdown",
   "source": [
    "The Strategy Pattern is a powerful design pattern that allows for the encapsulation of different algorithms or behaviors in a single interface, making it easy to switch between them at runtime. It can be used in a wide range of applications, including game development, where it can be used to model the behavior of different characters and objects in a game world."
   ],
   "metadata": {
    "collapsed": false
   }
  },
  {
   "cell_type": "markdown",
   "source": [
    "## Dependency Injection\n",
    "\n",
    "Dependency Injection (DI) is a technique that allows objects to be provided with their dependencies, rather than hard coding them or creating them internally. This technique is closely related to the Strategy Pattern, as it allows for the decoupling of classes and their dependencies, making it easier to change or replace them at runtime.\n",
    "\n",
    "In our fantasy RPG game, we can use Dependency Injection to provide our characters with their weapons. For example, rather than hard coding a warrior's weapons, we can use a DI container to inject them at runtime."
   ],
   "metadata": {
    "collapsed": false
   }
  },
  {
   "cell_type": "code",
   "execution_count": 6,
   "outputs": [],
   "source": [
    "from Fortuna import dice"
   ],
   "metadata": {
    "collapsed": false
   }
  },
  {
   "cell_type": "code",
   "execution_count": 7,
   "outputs": [],
   "source": [
    "class Weapon:\n",
    "\n",
    "    def __init__(self, name: str):\n",
    "        self.name = name\n",
    "\n",
    "    def __call__(self):\n",
    "        return 1\n",
    "\n",
    "    def __str__(self):\n",
    "        return self.name\n"
   ],
   "metadata": {
    "collapsed": false
   }
  },
  {
   "cell_type": "code",
   "execution_count": 8,
   "outputs": [],
   "source": [
    "class Sword(Weapon):\n",
    "\n",
    "    def __call__(self):\n",
    "        return dice(1, 12)\n",
    "\n",
    "\n",
    "class Battleaxe(Weapon):\n",
    "\n",
    "    def __call__(self):\n",
    "        return dice(2, 6)\n",
    "\n",
    "\n",
    "class Morningstar(Weapon):\n",
    "\n",
    "    def __call__(self):\n",
    "        return dice(3, 4)"
   ],
   "metadata": {
    "collapsed": false
   }
  },
  {
   "cell_type": "code",
   "execution_count": 9,
   "outputs": [],
   "source": [
    "class Warrior:\n",
    "\n",
    "    def __init__(self, weapon: Weapon):\n",
    "        self.weapon = weapon\n",
    "\n",
    "    def attack(self):\n",
    "        print(f\"{self.weapon} => {self.weapon()} damage\")\n"
   ],
   "metadata": {
    "collapsed": false
   }
  },
  {
   "cell_type": "code",
   "execution_count": 20,
   "outputs": [
    {
     "name": "stdout",
     "output_type": "stream",
     "text": [
      "Holy Avenger => 7 damage\n"
     ]
    }
   ],
   "source": [
    "sword = Sword(\"Holy Avenger\")\n",
    "warrior = Warrior(sword)\n",
    "warrior.attack()\n",
    "\n",
    "warrior.weapon = Morningstar(\"Hell Beam\")"
   ],
   "metadata": {
    "collapsed": false
   }
  },
  {
   "cell_type": "markdown",
   "source": [
    "## Dynamic Dispatch\n",
    "\n",
    "Dynamic Dispatch is a technique that allows for the runtime selection of the method to be called based on the type of object. This technique is closely related to the Strategy Pattern and Dependency Injection, as it allows for the decoupling of classes and their behavior, making it easy to change or replace them at runtime.\n",
    "\n",
    "In our fantasy RPG game, we can use Dynamic Dispatch to model the behavior of different characters, and to allow for the runtime selection of the appropriate method to be called based on the type of the character. For example, instead of calling the attack method directly on a character object, we can use the type function to determine the type of the object and call the appropriate method.\n"
   ],
   "metadata": {
    "collapsed": false
   }
  },
  {
   "cell_type": "code",
   "execution_count": 11,
   "outputs": [],
   "source": [
    "from Fortuna import random_value"
   ],
   "metadata": {
    "collapsed": false
   }
  },
  {
   "cell_type": "code",
   "execution_count": 12,
   "outputs": [],
   "source": [
    "class Rogue:\n",
    "    def melee_attack(self):\n",
    "        print(\"Staby-staby\")\n",
    "\n",
    "    def range_attack(self):\n",
    "        print(\"Pew-pew\")\n",
    "\n",
    "\n",
    "class Assassin(Rogue):\n",
    "    def melee_attack(self):\n",
    "        print(\"Backstab\")\n",
    "\n",
    "\n",
    "class Archer(Rogue):\n",
    "    def range_attack(self):\n",
    "        print(\"Bullseye\")\n"
   ],
   "metadata": {
    "collapsed": false
   }
  },
  {
   "cell_type": "code",
   "execution_count": 13,
   "outputs": [],
   "source": [
    "def perform_attack(character: Rogue):\n",
    "    if isinstance(character, Assassin):\n",
    "        character.melee_attack()\n",
    "    elif isinstance(character, Archer):\n",
    "        character.range_attack()\n",
    "    else:\n",
    "        random_value((character.melee_attack, character.range_attack))()\n"
   ],
   "metadata": {
    "collapsed": false
   }
  },
  {
   "cell_type": "code",
   "execution_count": 14,
   "outputs": [],
   "source": [
    "rouge = Rogue()\n",
    "assassin = Assassin()\n",
    "archer = Archer()\n"
   ],
   "metadata": {
    "collapsed": false
   }
  },
  {
   "cell_type": "code",
   "execution_count": 15,
   "outputs": [
    {
     "name": "stdout",
     "output_type": "stream",
     "text": [
      "Staby-staby\n",
      "Backstab\n",
      "Bullseye\n"
     ]
    }
   ],
   "source": [
    "perform_attack(rouge)\n",
    "perform_attack(assassin)\n",
    "perform_attack(archer)\n"
   ],
   "metadata": {
    "collapsed": false
   }
  },
  {
   "cell_type": "code",
   "execution_count": 15,
   "outputs": [],
   "source": [],
   "metadata": {
    "collapsed": false
   }
  }
 ],
 "metadata": {
  "kernelspec": {
   "display_name": "Python 3",
   "language": "python",
   "name": "python3"
  },
  "language_info": {
   "codemirror_mode": {
    "name": "ipython",
    "version": 2
   },
   "file_extension": ".py",
   "mimetype": "text/x-python",
   "name": "python",
   "nbconvert_exporter": "python",
   "pygments_lexer": "ipython2",
   "version": "2.7.6"
  }
 },
 "nbformat": 4,
 "nbformat_minor": 0
}
